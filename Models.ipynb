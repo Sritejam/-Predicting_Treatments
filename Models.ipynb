{
 "cells": [
  {
   "cell_type": "markdown",
   "id": "60bb4ac8",
   "metadata": {},
   "source": [
    "\n",
    "# **Predicting Treatment Plans for Patients**"
   ]
  },
  {
   "cell_type": "markdown",
   "id": "226df3cd",
   "metadata": {},
   "source": [
    "Problem statement: Develop a machine learning model to accurately predict specific medical treatments for patients, based on a comprehensive set of diagnostic and demographic features. This predictive model aims to support medical professionals by providing data-driven treatment recommendations."
   ]
  },
  {
   "cell_type": "markdown",
   "id": "cd49281e",
   "metadata": {},
   "source": [
    "Features:\n",
    "The dataset for this model includes:\n",
    "\n",
    "* age: Patient's age described qualitatively (e.g., \"4-year-old\").\n",
    "* sex: Patient's sex (e.g., \"Girl\").\n",
    "* physiological_context: General health status before current medical interaction (e.g., \"Previously healthy\").\n",
    "* visit_motivation: Initial reason for the medical visit (e.g., \"Routine checkup\").\n",
    "* admission_reason: Specific cause for admission (e.g., \"Abdominal mass\").\n",
    "* diagnosis_test: Type of diagnostic tests conducted (e.g., \"Pathology\").\n",
    "* diagnosis_result: Outcomes from the diagnostic tests (e.g., \"Favorable histology\").\n",
    "* related_condition: Diagnosed medical conditions (e.g., \"Wilms tumor\").\n",
    "* reason_for_treatment: Basis for the recommended treatment (e.g., \"Stage II treatment\").\n",
    "\n",
    "Target Variable:\n",
    "* treatment_name: Type of treatment prescribed, including antibiotics, chemotherapy, surgery, etc."
   ]
  },
  {
   "cell_type": "markdown",
   "id": "4a624480",
   "metadata": {},
   "source": [
    "Here is the link to the dataset:\n",
    "https://drive.google.com/file/d/1CR5_lEImN8umGYFMWMtP4wouJYYhEjNY/view?usp=share_link\n",
    "\n",
    "* This dataset has been downloaded and processed from Hugging face library"
   ]
  },
  {
   "cell_type": "markdown",
   "id": "c921e170",
   "metadata": {},
   "source": [
    "# Install necessary libraries (Ignore if already done)"
   ]
  },
  {
   "cell_type": "code",
   "execution_count": 1,
   "id": "9c171e45",
   "metadata": {},
   "outputs": [],
   "source": [
    "# !pip install pandas\n",
    "# !pip install numpy\n",
    "# !pip install scikit-learn\n",
    "# !pip install imbalanced-learn\n",
    "# !pip install spacy\n",
    "# !pip install matplotlib\n",
    "# !pip install seaborn\n",
    "# !python -m spacy download en_core_web_sm\n",
    "# !pip install --upgrade scikit-learn\n",
    "# !pip install --upgrade imbalanced-learn"
   ]
  },
  {
   "cell_type": "markdown",
   "id": "6ad95355",
   "metadata": {},
   "source": [
    "# Importing Libraries"
   ]
  },
  {
   "cell_type": "code",
   "execution_count": 2,
   "id": "cee2f4e2",
   "metadata": {},
   "outputs": [],
   "source": [
    "import pandas as pd\n",
    "import numpy as np\n",
    "import re\n",
    "import spacy\n",
    "\n",
    "from sklearn.model_selection import train_test_split, StratifiedKFold, GridSearchCV, cross_val_score\n",
    "from sklearn.preprocessing import StandardScaler, LabelEncoder\n",
    "from sklearn.linear_model import LogisticRegression\n",
    "from sklearn.svm import SVC\n",
    "from sklearn.ensemble import RandomForestClassifier, GradientBoostingClassifier\n",
    "from sklearn.neighbors import KNeighborsClassifier\n",
    "from sklearn.metrics import accuracy_score, f1_score, make_scorer, precision_score, recall_score, confusion_matrix, classification_report\n",
    "from sklearn.feature_extraction.text import TfidfVectorizer\n",
    "\n",
    "from imblearn.over_sampling import SMOTE\n",
    "from imblearn.under_sampling import RandomUnderSampler\n",
    "from imblearn.pipeline import make_pipeline\n",
    "\n",
    "import matplotlib.pyplot as plt\n",
    "import seaborn as sns\n",
    "\n",
    "from transformers import AutoTokenizer, AutoModelForSequenceClassification, Trainer, TrainingArguments\n",
    "from sklearn.metrics import accuracy_score, precision_recall_fscore_support\n",
    "from sklearn.utils.class_weight import compute_class_weight\n",
    "import torch\n",
    "from torch.utils.data import Dataset\n"
   ]
  },
  {
   "cell_type": "markdown",
   "id": "070e26dc",
   "metadata": {},
   "source": [
    "# Loading Data"
   ]
  },
  {
   "cell_type": "code",
   "execution_count": 3,
   "id": "f816083b",
   "metadata": {},
   "outputs": [],
   "source": [
    "df = pd.read_csv('t2.csv')  "
   ]
  },
  {
   "cell_type": "markdown",
   "id": "9767d747",
   "metadata": {},
   "source": [
    "# View of data"
   ]
  },
  {
   "cell_type": "code",
   "execution_count": 4,
   "id": "c28e8341",
   "metadata": {},
   "outputs": [
    {
     "data": {
      "text/html": [
       "<div>\n",
       "<style scoped>\n",
       "    .dataframe tbody tr th:only-of-type {\n",
       "        vertical-align: middle;\n",
       "    }\n",
       "\n",
       "    .dataframe tbody tr th {\n",
       "        vertical-align: top;\n",
       "    }\n",
       "\n",
       "    .dataframe thead th {\n",
       "        text-align: right;\n",
       "    }\n",
       "</style>\n",
       "<table border=\"1\" class=\"dataframe\">\n",
       "  <thead>\n",
       "    <tr style=\"text-align: right;\">\n",
       "      <th></th>\n",
       "      <th>age</th>\n",
       "      <th>sex</th>\n",
       "      <th>physiological_context</th>\n",
       "      <th>visit_motivation</th>\n",
       "      <th>admission_reason</th>\n",
       "      <th>diagnosis_test</th>\n",
       "      <th>diagnosis_result</th>\n",
       "      <th>related_condition</th>\n",
       "      <th>reason_for_treatment</th>\n",
       "      <th>treatment_name</th>\n",
       "    </tr>\n",
       "  </thead>\n",
       "  <tbody>\n",
       "    <tr>\n",
       "      <th>0</th>\n",
       "      <td>4-year-old</td>\n",
       "      <td>Girl</td>\n",
       "      <td>Previously healthy</td>\n",
       "      <td>Routine surveillance chest radiograph</td>\n",
       "      <td>Painless, right-sided abdominal mass</td>\n",
       "      <td>Pathology</td>\n",
       "      <td>Favorable histology and negative margins</td>\n",
       "      <td>Wilms tumor</td>\n",
       "      <td>Standard treatment for Stage II Wilms tumor</td>\n",
       "      <td>Chemotherapy</td>\n",
       "    </tr>\n",
       "    <tr>\n",
       "      <th>1</th>\n",
       "      <td>47</td>\n",
       "      <td>Female</td>\n",
       "      <td>Past medical history includes a right thyroid lobectomy for a large benign thyroid nodule and cyst about two years ago.</td>\n",
       "      <td>Chest pain and dyspnea, weight loss</td>\n",
       "      <td>Suspected lung cancer with distant metastasis (clinical stage IV)</td>\n",
       "      <td>Lung biopsy</td>\n",
       "      <td>Primary lung adenocarcinoma with predominantly micropapillary carcinoma component</td>\n",
       "      <td>Primary lung adenocarcinoma</td>\n",
       "      <td>Treatment for diagnosed primary lung adenocarcinoma</td>\n",
       "      <td>Chemotherapy</td>\n",
       "    </tr>\n",
       "    <tr>\n",
       "      <th>2</th>\n",
       "      <td>51</td>\n",
       "      <td>male</td>\n",
       "      <td>Muscle-invasive urothelial cell carcinoma diagnosed in May 2015</td>\n",
       "      <td>New exertional dyspnea and syncopal episode</td>\n",
       "      <td>Progressive dyspnea with minimal exertion and syncopal episode</td>\n",
       "      <td>PET/CT scan</td>\n",
       "      <td>Complete metabolic response in the right ventricle mass</td>\n",
       "      <td>Right ventricular mass</td>\n",
       "      <td>Mass was not resectable and chemotherapy was not felt to offer rapid disease control</td>\n",
       "      <td>Palliative radiotherapy</td>\n",
       "    </tr>\n",
       "  </tbody>\n",
       "</table>\n",
       "</div>"
      ],
      "text/plain": [
       "          age     sex  \\\n",
       "0  4-year-old    Girl   \n",
       "1          47  Female   \n",
       "2          51    male   \n",
       "\n",
       "                                                                                                     physiological_context  \\\n",
       "0                                                                                                       Previously healthy   \n",
       "1  Past medical history includes a right thyroid lobectomy for a large benign thyroid nodule and cyst about two years ago.   \n",
       "2                                                          Muscle-invasive urothelial cell carcinoma diagnosed in May 2015   \n",
       "\n",
       "                              visit_motivation  \\\n",
       "0        Routine surveillance chest radiograph   \n",
       "1          Chest pain and dyspnea, weight loss   \n",
       "2  New exertional dyspnea and syncopal episode   \n",
       "\n",
       "                                                    admission_reason  \\\n",
       "0                               Painless, right-sided abdominal mass   \n",
       "1  Suspected lung cancer with distant metastasis (clinical stage IV)   \n",
       "2     Progressive dyspnea with minimal exertion and syncopal episode   \n",
       "\n",
       "  diagnosis_test  \\\n",
       "0      Pathology   \n",
       "1    Lung biopsy   \n",
       "2    PET/CT scan   \n",
       "\n",
       "                                                                    diagnosis_result  \\\n",
       "0                                           Favorable histology and negative margins   \n",
       "1  Primary lung adenocarcinoma with predominantly micropapillary carcinoma component   \n",
       "2                            Complete metabolic response in the right ventricle mass   \n",
       "\n",
       "             related_condition  \\\n",
       "0                  Wilms tumor   \n",
       "1  Primary lung adenocarcinoma   \n",
       "2       Right ventricular mass   \n",
       "\n",
       "                                                                   reason_for_treatment  \\\n",
       "0                                           Standard treatment for Stage II Wilms tumor   \n",
       "1                                   Treatment for diagnosed primary lung adenocarcinoma   \n",
       "2  Mass was not resectable and chemotherapy was not felt to offer rapid disease control   \n",
       "\n",
       "            treatment_name  \n",
       "0             Chemotherapy  \n",
       "1             Chemotherapy  \n",
       "2  Palliative radiotherapy  "
      ]
     },
     "execution_count": 4,
     "metadata": {},
     "output_type": "execute_result"
    }
   ],
   "source": [
    "pd.set_option('display.max_colwidth', None)\n",
    "df.head(3)"
   ]
  },
  {
   "cell_type": "markdown",
   "id": "dcea6170",
   "metadata": {},
   "source": [
    "# About the data"
   ]
  },
  {
   "cell_type": "code",
   "execution_count": 5,
   "id": "8c73966f",
   "metadata": {},
   "outputs": [
    {
     "name": "stdout",
     "output_type": "stream",
     "text": [
      "---------shape of the dataframe--------\n",
      " (10101, 10)\n",
      "\n",
      "--------null values of dataframe:----------- \n",
      "age                      0\n",
      "sex                      0\n",
      "physiological_context    0\n",
      "visit_motivation         0\n",
      "admission_reason         0\n",
      "diagnosis_test           0\n",
      "diagnosis_result         0\n",
      "related_condition        0\n",
      "reason_for_treatment     0\n",
      "treatment_name           0\n",
      "dtype: int64\n",
      "\n",
      "--------Datatypes of all columns----------- \n",
      "age                      object\n",
      "sex                      object\n",
      "physiological_context    object\n",
      "visit_motivation         object\n",
      "admission_reason         object\n",
      "diagnosis_test           object\n",
      "diagnosis_result         object\n",
      "related_condition        object\n",
      "reason_for_treatment     object\n",
      "treatment_name           object\n",
      "dtype: object\n",
      "\n",
      " -----------------Unique treatments:-------------\n",
      " 100\n"
     ]
    },
    {
     "data": {
      "text/plain": [
       "treatment_name\n",
       "antibiotics                614\n",
       "chemotherapy               474\n",
       "aspirin                    375\n",
       "blood transfusion          309\n",
       "conservative management    296\n",
       "                          ... \n",
       "nivolumab                   27\n",
       "losartan                    26\n",
       "oral steroids               21\n",
       "omeprazole                  20\n",
       "risperidone                 12\n",
       "Name: count, Length: 100, dtype: int64"
      ]
     },
     "execution_count": 5,
     "metadata": {},
     "output_type": "execute_result"
    }
   ],
   "source": [
    "#Shape\n",
    "print(f\"---------shape of the dataframe--------\\n {df.shape}\")\n",
    "\n",
    "# null values\n",
    "print(\"\\n--------null values of dataframe:----------- \")\n",
    "print(df.isna().sum())\n",
    "\n",
    "# datatypes of all columns\n",
    "print(\"\\n--------Datatypes of all columns----------- \")\n",
    "print(df.dtypes)\n",
    "\n",
    "# unique values in diagnosis (label colum)\n",
    "df['treatment_name'] = df['treatment_name'].str.lower()\n",
    "print(f\"\\n -----------------Unique treatments:-------------\\n {df['treatment_name'].nunique()}\")\n",
    "df[\"treatment_name\"].value_counts()\n"
   ]
  },
  {
   "cell_type": "markdown",
   "id": "cc5666e7",
   "metadata": {},
   "source": [
    "# Data Cleaning "
   ]
  },
  {
   "cell_type": "markdown",
   "id": "6f437074",
   "metadata": {},
   "source": [
    "## Sex Column"
   ]
  },
  {
   "cell_type": "code",
   "execution_count": 6,
   "id": "018e6bc4",
   "metadata": {},
   "outputs": [
    {
     "name": "stdout",
     "output_type": "stream",
     "text": [
      "sex\n",
      "Male                 5117\n",
      "Female               3711\n",
      "Woman                 997\n",
      "Man                   156\n",
      "Boy                    59\n",
      "Girl                   52\n",
      "Gentleman               6\n",
      "Male (geminus a)        2\n",
      "Sex not specified       1\n",
      "Name: count, dtype: int64\n"
     ]
    }
   ],
   "source": [
    "# Function to standardize sex values\n",
    "def standardize_sex(sex):\n",
    "    if pd.isna(sex):\n",
    "        return None\n",
    "    return sex.strip().capitalize()\n",
    "\n",
    "# Apply the conversion function\n",
    "df['sex'] = df['sex'].apply(standardize_sex)\n",
    "\n",
    "#data[['patient information_sex']].count()\n",
    "sex_counts = df['sex'].value_counts()\n",
    "print(sex_counts)\n",
    "\n"
   ]
  },
  {
   "cell_type": "code",
   "execution_count": 7,
   "id": "700b4dc7",
   "metadata": {},
   "outputs": [
    {
     "name": "stdout",
     "output_type": "stream",
     "text": [
      "sex\n",
      "Male       5340\n",
      "Female     4760\n",
      "Unknown       1\n",
      "Name: count, dtype: int64\n"
     ]
    }
   ],
   "source": [
    "# Function to standardize sex values\n",
    "def standardize_sex(sex):\n",
    "    if pd.isna(sex):\n",
    "        return 'Unknown'\n",
    "    sex = sex.strip().lower()\n",
    "    if sex in ['male', 'man', 'boy', 'gentleman', 'male (geminus a)']:\n",
    "        return 'Male'\n",
    "    elif sex in ['female', 'woman', 'girl']:\n",
    "        return 'Female'\n",
    "    else:\n",
    "        return 'Unknown'\n",
    "\n",
    "# Apply the conversion function\n",
    "df['sex'] = df['sex'].apply(standardize_sex)\n",
    "\n",
    "# Count the occurrences of each category\n",
    "sex_counts = df['sex'].value_counts()\n",
    "print(sex_counts)"
   ]
  },
  {
   "cell_type": "markdown",
   "id": "0d879732",
   "metadata": {},
   "source": [
    "## Age Column"
   ]
  },
  {
   "cell_type": "code",
   "execution_count": 8,
   "id": "b29fa8bb",
   "metadata": {},
   "outputs": [
    {
     "data": {
      "text/plain": [
       "array(['4-year-old', '47', '51', '59', '65', '48', '25 years old', '43',\n",
       "       '64', '70-year-old', '71', '77', '58', '36', '55', '32', '37',\n",
       "       'Sixty-seven', '66', '72', '57', '30', '56 years old', '73', '21',\n",
       "       '67 years old', '53', '49', '83', '26 years', '61', '57 years old',\n",
       "       '27 years old', '24 days old', '50-year-old', '7-month-old',\n",
       "       'Newborn', '87 years old', '24 years old', '86', '55 years old',\n",
       "       '23 years old', '20', '18-year-old', '38', '16 years old',\n",
       "       'One year', '35', '44', '69', '81 years old', '46 years old', '41',\n",
       "       '85', '34', '63', '27', '16-year-old', '19', '76 years old', '60',\n",
       "       '25', '52', '29', '1-day-old', '68 years-old', '45 years old',\n",
       "       '56', '54', '39', '62', '11 years old', '31', '45', '68-year-old',\n",
       "       '26', '10 years old', '75', '67', '65 years old', '49 years old',\n",
       "       'Thirty-four-year-old', '2 years old', '79', '60s', '7 weeks old',\n",
       "       '84', '16', 'three-year old', '34 years old', '6-year-old', '74',\n",
       "       'In her 40s', '70',\n",
       "       '69 years old in 2005, 79 years old in 2015, 81 years old in 2017',\n",
       "       '13', '20 years old at first admission, 22 years old at follow-up',\n",
       "       '46', '89', '50 years old', '81', '23', '33 months', '22',\n",
       "       'Seven-year-old', '39 years old', '4 years old', '14 years',\n",
       "       '51-year-old', '14', '50', '26 years old', '8 years old',\n",
       "       '3.5 years', '28', '31-years old', '79 years old', '4.5 years old',\n",
       "       'Five years old', '76', '82', '10-year-old', '68', '10-month-old',\n",
       "       '17 years old', '77 years old', '88',\n",
       "       '30 years old in 2000, 38 years old in 2008',\n",
       "       '36 years old at first presentation in June 2002', '33 years',\n",
       "       '40', '45-year-old', '48 years old', '42', 'Fourteen-year-old',\n",
       "       '50 years', '14-year-old', '18', '34 years', '58 years old',\n",
       "       '19 years old', '30 years old', '8 days old', '52 years old', '15',\n",
       "       '13 days old', '41 years old', 'Six-month-old', '75 years old',\n",
       "       '9-year-old', '18 years old',\n",
       "       '46 years old when first noted the mass in 2015', '17',\n",
       "       '35-year-old', '5 years old', '18 years',\n",
       "       '25 years old (22 years old in 2015)', '27 years', '93', '24',\n",
       "       '37 years old', 'In her thirties', '2 years-old', '80',\n",
       "       '15-month-old', '78', '33', '40 years old', '68 years old',\n",
       "       '1-month-old at first mention, 2 months at time of surgery, 17 months at follow-up',\n",
       "       '13-year-old', '78 years old', '59 years',\n",
       "       '87 years old at the time of cystectomy, 106 at the time of second admission',\n",
       "       '3 years old', '51 years old', '38 years old', '60-year-old',\n",
       "       '57-years-old', '54 years old', '58 years', '17 years', '95',\n",
       "       '71 y/o', '18 years old at first presentation', '25-day-old',\n",
       "       '60 years', '36 years old', 'Four-year-old', '17-month-old',\n",
       "       '12 years old', '31 years', '38 years', '87',\n",
       "       'Twenty four days old', '52 years', '55-year-old', 'In his 30s',\n",
       "       '32 months', '28 years', '66 years old', 'Infant', '46 years',\n",
       "       '89 years old', 'Newborn, 7 days old', '3 months', '90',\n",
       "       '22-month-old', '40s', '70 years old', '80-year-old',\n",
       "       '85 years old', '80 years old', '13-month-old', '37 days old',\n",
       "       '60 years old', '20 years old', '52-year-old', '73-year-old',\n",
       "       '7-year-old', '28 years old', '10 years', '55-years-old',\n",
       "       '15-year-old', '6-day-old', 'Fifty-year-old', '4 years-old',\n",
       "       'Neonate', 'Sixty years old',\n",
       "       'Initially 21 years old, 33 years old at last mention',\n",
       "       '13 years old', '5-year old', '8-month old', '53 years old',\n",
       "       'In her 30s', '12',\n",
       "       '1-month-old at initial referral, 2 months at time of surgery',\n",
       "       '8-year-old', 'Six-year-old', '33 years old', '32y old',\n",
       "       '9 years old', '20 years', '21 months',\n",
       "       '45 at initial presentation, 51 at the time of liver transplantation',\n",
       "       '55 years-old', '51 years', '29 years', '8 years', 'four-year old',\n",
       "       '74 years old', '47 years old', '87 years', '9 years',\n",
       "       'Thirteen years old', '31 years old', 'Twenty-five years old',\n",
       "       '85-year-old', '29 years old', '1-day old', '7 years old',\n",
       "       'Eighty-four years old', '32 years old', 'Eleven-day-old',\n",
       "       '22 years old', '14 years old', '42 years old',\n",
       "       'Sixty-three years old',\n",
       "       '11 months at initial presentation, 20 years at latest mentioned event',\n",
       "       '48-year-old', '59 years old', '86 years old',\n",
       "       'Eighty one years old', '3-year-old', '3 years',\n",
       "       '23 years old at first presentation, current age not specified',\n",
       "       '12 days old', '4-day-old', '2-month-old', '25 years',\n",
       "       '12-year-old', 'Six years old', '71 years old', '30 years',\n",
       "       '8 months old', '77-year-old', '19-year-old', '88 years old',\n",
       "       'Fifty two years old', '22 years', '76-year-old', '28-year-old',\n",
       "       '15 at the time of surgery, current age not specified',\n",
       "       'Seven years old', 'four-year-old', '4 days old', '40 years',\n",
       "       '11 years', '22-year-old', '56 years', '12 years', '6-month-old',\n",
       "       '20-month-old', '24 years', '25-month-old', '74-year-old',\n",
       "       '15 years old', 'Seventies', '20 hours old',\n",
       "       '11 years old at first presentation, 14 years old at follow-up',\n",
       "       '82 years old', 'Fourteen years old', 'Late seventies',\n",
       "       '69 years old', '10 months old', 'infant', '76-years-old',\n",
       "       '17 years and eight months at presentation', '28 days old',\n",
       "       'Four-day-old', '16 years', '3 years-old', 'Fifty-one years old',\n",
       "       '16-month-old', 'Two-and-a-half years old', '62 years old',\n",
       "       '58 years old in 2007', '63 years old', 'Two-month-old',\n",
       "       'Twenty-five-year-old', 'fifty', '40-year-old', '72 years old',\n",
       "       '5 years',\n",
       "       '1 month at initial referral, 2 months at time of surgery, 17 months at follow-up',\n",
       "       '64 years old', '26-year-old', '42 years', '6 years',\n",
       "       '36 in 1992 (age at the time of the note would be 64)',\n",
       "       'five year old', '52 years old in 2002', '35 years old',\n",
       "       '37-years-old', '19-month-old', '1.5 years', '27-year-old', '92',\n",
       "       '5-year-old', '21 years', '76 years', 'nine-month-old',\n",
       "       '44 at initial presentation, 48 at the time of surgery', '50s',\n",
       "       '70s', '8-month-old',\n",
       "       '8 years old at first visit, 11 years old at follow-up',\n",
       "       '60 years old at first presentation in July 1997', '23 years',\n",
       "       '61 years old', '47-year-old', '9-month-old', 'late seventies',\n",
       "       '11 months at initial presentation, 20 years at the time of last mentioned events',\n",
       "       '1-year-old', 'Twelve years old', '7 years',\n",
       "       'Newborn, 23-week gestation', '90 years old', '76-year old',\n",
       "       'Forty nine-year-old', '22 months',\n",
       "       '11 months at first mention, 9 years at the time of craniovertebral decompression, 17-20 years during fractures',\n",
       "       '78 years', '43 years', '14-month-old',\n",
       "       '58 years old at initial presentation, current age not specified',\n",
       "       '2-year-old', '31-years-old',\n",
       "       '21 years old at the initial visit, 23 years old at the start of AIGT',\n",
       "       '48 years', '23+6 weeks gestational age', 'nine-year-old',\n",
       "       'One-year-old', 'Forty-five-year-old', '4-month-old',\n",
       "       'Seventeen years old', '67 years', '28-day-old', '94',\n",
       "       '27 years old at the time of renal biopsy, 34 years old at the time of concern about fertility',\n",
       "       'Diagnosed with reactive arthritis at 12 years old, current age not specified',\n",
       "       '44 years'], dtype=object)"
      ]
     },
     "execution_count": 8,
     "metadata": {},
     "output_type": "execute_result"
    }
   ],
   "source": [
    "# Display unique values in the 'patient information_age' column\n",
    "unique_age_values = df['age'].unique()\n",
    "unique_age_values"
   ]
  },
  {
   "cell_type": "code",
   "execution_count": 9,
   "id": "0bab8925",
   "metadata": {},
   "outputs": [
    {
     "data": {
      "text/plain": [
       "array([ 4., 47., 51., 59., 65., 48., 25., 43., 64., 70., 71., 77., 58.,\n",
       "       36., 55., 32., 37., nan, 66., 72., 57., 30., 56., 73., 21., 67.,\n",
       "       53., 49., 83., 26., 61., 27., 24., 50.,  7., 87., 86., 23., 20.,\n",
       "       18., 38., 16., 35., 44., 69., 81., 46., 41., 85., 34., 63., 19.,\n",
       "       76., 60., 52., 29.,  1., 68., 45., 54., 39., 62., 11., 31., 10.,\n",
       "       75.,  2., 79., 84.,  6., 74., 40., 13., 89., 33., 22., 14.,  8.,\n",
       "        3., 28., 82., 17., 88., 42., 15.,  9.,  5., 93., 80., 78., 95.,\n",
       "       12., 90., 92., 94.])"
      ]
     },
     "execution_count": 9,
     "metadata": {},
     "output_type": "execute_result"
    }
   ],
   "source": [
    "# Function to extract and standardize age values\n",
    "def extract_age(age):\n",
    "    if pd.isna(age):\n",
    "        return None\n",
    "    match = re.search(r'\\d+', str(age))\n",
    "    if match:\n",
    "        return int(match.group())\n",
    "    return None\n",
    "\n",
    "# Apply the extraction function\n",
    "df['age'] = df['age'].apply(extract_age)\n",
    "\n",
    "# Verify the unique values after standardization\n",
    "unique_age_values_standardized = df['age'].unique()\n",
    "unique_age_values_standardized\n"
   ]
  },
  {
   "cell_type": "code",
   "execution_count": 10,
   "id": "990e0ea2",
   "metadata": {},
   "outputs": [
    {
     "name": "stdout",
     "output_type": "stream",
     "text": [
      "Null values before imputing 182\n",
      "Null values before imputing with median  0\n"
     ]
    }
   ],
   "source": [
    "print(\"Null values before imputing\", df['age'].isna().sum())\n",
    "median_age = df['age'].median()\n",
    "df['age'] = df['age'].fillna(median_age)\n",
    "print(\"Null values before imputing with median \",df['age'].isna().sum())\n",
    "df['age'] = df['age'].astype(int)\n",
    "df[\"age\"] = df[\"age\"].astype(str)"
   ]
  },
  {
   "cell_type": "markdown",
   "id": "0b3dc5eb",
   "metadata": {},
   "source": [
    "## Target Column"
   ]
  },
  {
   "cell_type": "code",
   "execution_count": 11,
   "id": "c3020a9d",
   "metadata": {},
   "outputs": [
    {
     "name": "stdout",
     "output_type": "stream",
     "text": [
      "\n",
      " -----------------Unique treatments after standardization:-------------\n",
      " 71\n",
      "\n",
      " -----------------Unique treatment names after standardization:-------------\n",
      " ['chemotherapy' 'palliative radiotherapy' 'sorafenib' 'hemodialysis'\n",
      " 'conservative treatment' 'corticosteroids' 'surgery' 'aspirin' 'steroids'\n",
      " 'azathioprine' 'clopidogrel' 'radiotherapy' 'analgesia' 'atorvastatin'\n",
      " 'warfarin' 'metformin' 'antibiotics' 'conservative management'\n",
      " 'methotrexate' 'furosemide' 'heparin' 'tacrolimus' 'meropenem'\n",
      " 'amlodipine' 'nivolumab' 'infliximab' 'resuscitation' 'sunitinib'\n",
      " 'symptomatic treatment' 'proton pump inhibitor' 'omeprazole'\n",
      " 'levothyroxine' 'intubation' 'medication' 'acyclovir' 'apixaban'\n",
      " 'cyclophosphamide' 'blood transfusion' 'levetiracetam' 'ciprofloxacin'\n",
      " 'physiotherapy' 'vancomycin' 'carbamazepine' 'transfusion' 'losartan'\n",
      " 'physical therapy' 'doxycycline' 'ceftriaxone' 'imatinib'\n",
      " 'hydroxychloroquine' 'anticoagulation' 'embolization' 'ibuprofen'\n",
      " 'analgesics' 'inotropic support' 'amoxicillin' 'anticoagulation therapy'\n",
      " 'enoxaparin' 'phenytoin' 'olanzapine' 'paracetamol' 'oxygen therapy'\n",
      " 'acetaminophen' 'intravenous fluids' 'risperidone'\n",
      " 'mechanical ventilation' 'iv antibiotics'\n",
      " 'intravenous methylprednisolone' 'metoprolol' 'diuretics'\n",
      " 'plasmapheresis']\n"
     ]
    }
   ],
   "source": [
    "# Function to standardize treatment names\n",
    "def standardize_treatment_name(treatment):\n",
    "    treatment = treatment.lower()\n",
    "    if treatment in ['antibiotics', 'antibiotic therapy', 'antibiotic treatment', 'oral antibiotics', 'broad-spectrum antibiotics', 'broad spectrum antibiotics', 'intravenous antibiotics', 'empiric antibiotics']:\n",
    "        return 'antibiotics'\n",
    "    elif treatment in ['oral prednisolone', 'oral prednisone', 'prednisone', 'prednisolone', 'methylprednisolone', 'betamethasone', 'dexamethasone']:\n",
    "        return 'corticosteroids'\n",
    "    elif treatment in ['surgical excision', 'surgery', 'surgical resection', 'surgical intervention', 'surgical treatment']:\n",
    "        return 'surgery'\n",
    "    elif treatment in ['radiotherapy', 'radiation therapy', 'adjuvant radiotherapy']:\n",
    "        return 'radiotherapy'\n",
    "    elif treatment in ['intravenous hydrocortisone', 'oral steroids', 'steroids']:\n",
    "        return 'steroids'\n",
    "    elif treatment in ['heparin drip', 'heparin infusion', 'heparin']:\n",
    "        return 'heparin'\n",
    "    elif treatment in ['blood transfusion', 'blood transfusions']:\n",
    "        return 'blood transfusion'\n",
    "    elif treatment in ['adjuvant chemotherapy', 'neoadjuvant chemotherapy', 'palliative chemotherapy', 'chemotherapy']:\n",
    "        return 'chemotherapy'\n",
    "    elif treatment in ['fluid resuscitation', 'resuscitation']:\n",
    "        return 'resuscitation'\n",
    "    else:\n",
    "        return treatment\n",
    "\n",
    "# Apply the function to the treatment_name column\n",
    "df['treatment_name'] = df['treatment_name'].apply(standardize_treatment_name)\n",
    "\n",
    "# Print the unique values after standardization\n",
    "print(f\"\\n -----------------Unique treatments after standardization:-------------\\n {df['treatment_name'].nunique()}\")\n",
    "print(f\"\\n -----------------Unique treatment names after standardization:-------------\\n {df['treatment_name'].unique()}\")"
   ]
  },
  {
   "cell_type": "code",
   "execution_count": 12,
   "id": "90725e2e",
   "metadata": {
    "scrolled": false
   },
   "outputs": [
    {
     "name": "stdout",
     "output_type": "stream",
     "text": [
      "\n",
      " -----------------Unique treatments:-------------\n",
      " 71\n",
      "treatment_name\n",
      "antibiotics                       1409\n",
      "corticosteroids                    876\n",
      "chemotherapy                       777\n",
      "surgery                            721\n",
      "blood transfusion                  385\n",
      "aspirin                            375\n",
      "radiotherapy                       335\n",
      "conservative management            296\n",
      "conservative treatment             279\n",
      "heparin                            205\n",
      "resuscitation                      181\n",
      "warfarin                           176\n",
      "ceftriaxone                        162\n",
      "steroids                           158\n",
      "clopidogrel                        157\n",
      "vancomycin                         136\n",
      "levetiracetam                      128\n",
      "mechanical ventilation             114\n",
      "atorvastatin                       112\n",
      "intravenous fluids                 106\n",
      "sunitinib                           95\n",
      "imatinib                            95\n",
      "intubation                          95\n",
      "analgesics                          93\n",
      "hemodialysis                        88\n",
      "anticoagulation                     87\n",
      "ciprofloxacin                       85\n",
      "ibuprofen                           84\n",
      "azathioprine                        84\n",
      "amlodipine                          83\n",
      "metformin                           78\n",
      "methotrexate                        77\n",
      "doxycycline                         75\n",
      "amoxicillin                         72\n",
      "levothyroxine                       72\n",
      "analgesia                           70\n",
      "phenytoin                           67\n",
      "transfusion                         67\n",
      "medication                          64\n",
      "acyclovir                           64\n",
      "enoxaparin                          63\n",
      "iv antibiotics                      62\n",
      "apixaban                            62\n",
      "carbamazepine                       61\n",
      "meropenem                           60\n",
      "anticoagulation therapy             59\n",
      "tacrolimus                          59\n",
      "metoprolol                          56\n",
      "intravenous methylprednisolone      55\n",
      "embolization                        54\n",
      "symptomatic treatment               53\n",
      "cyclophosphamide                    52\n",
      "proton pump inhibitor               52\n",
      "sorafenib                           51\n",
      "plasmapheresis                      51\n",
      "inotropic support                   51\n",
      "physical therapy                    49\n",
      "physiotherapy                       47\n",
      "furosemide                          46\n",
      "paracetamol                         42\n",
      "oxygen therapy                      42\n",
      "hydroxychloroquine                  37\n",
      "diuretics                           37\n",
      "acetaminophen                       36\n",
      "palliative radiotherapy             36\n",
      "infliximab                          32\n",
      "olanzapine                          28\n",
      "nivolumab                           27\n",
      "losartan                            26\n",
      "omeprazole                          20\n",
      "risperidone                         12\n",
      "Name: count, dtype: int64\n"
     ]
    }
   ],
   "source": [
    "# Lowercase treatment_name column\n",
    "df['treatment_name'] = df['treatment_name'].str.lower()\n",
    "\n",
    "# Set pandas display options to show all rows and columns\n",
    "pd.set_option('display.max_rows', None)  # Show all rows\n",
    "pd.set_option('display.max_columns', None)  # Show all columns\n",
    "\n",
    "# Print unique treatments count and value counts\n",
    "print(f\"\\n -----------------Unique treatments:-------------\\n {df['treatment_name'].nunique()}\")\n",
    "print(df[\"treatment_name\"].value_counts())\n"
   ]
  },
  {
   "cell_type": "code",
   "execution_count": 13,
   "id": "e2d60e3a",
   "metadata": {},
   "outputs": [],
   "source": [
    "# Removing classes where total records is less than 100\n",
    "\n",
    "# Calculate value counts for each treatment_name\n",
    "counts = df['treatment_name'].value_counts()\n",
    "\n",
    "# Filter treatment names with count >= 100\n",
    "filtered_treatment_names = counts[counts >= 100].index\n",
    "\n",
    "# Filter the original DataFrame based on filtered treatment names\n",
    "df = df[df['treatment_name'].isin(filtered_treatment_names)]\n"
   ]
  },
  {
   "cell_type": "code",
   "execution_count": 14,
   "id": "8451c5ce",
   "metadata": {},
   "outputs": [
    {
     "name": "stdout",
     "output_type": "stream",
     "text": [
      "\n",
      " -----------------Unique treatments:-------------\n",
      " 20\n",
      "treatment_name\n",
      "antibiotics                1409\n",
      "corticosteroids             876\n",
      "chemotherapy                777\n",
      "surgery                     721\n",
      "blood transfusion           385\n",
      "aspirin                     375\n",
      "radiotherapy                335\n",
      "conservative management     296\n",
      "conservative treatment      279\n",
      "heparin                     205\n",
      "resuscitation               181\n",
      "warfarin                    176\n",
      "ceftriaxone                 162\n",
      "steroids                    158\n",
      "clopidogrel                 157\n",
      "vancomycin                  136\n",
      "levetiracetam               128\n",
      "mechanical ventilation      114\n",
      "atorvastatin                112\n",
      "intravenous fluids          106\n",
      "Name: count, dtype: int64\n"
     ]
    }
   ],
   "source": [
    "# Lowercase treatment_name column\n",
    "df['treatment_name'] = df['treatment_name'].str.lower()\n",
    "\n",
    "# Set pandas display options to show all rows and columns\n",
    "pd.set_option('display.max_rows', None)  # Show all rows\n",
    "pd.set_option('display.max_columns', None)  # Show all columns\n",
    "\n",
    "# Print unique treatments count and value counts\n",
    "print(f\"\\n -----------------Unique treatments:-------------\\n {df['treatment_name'].nunique()}\")\n",
    "print(df[\"treatment_name\"].value_counts())\n"
   ]
  },
  {
   "cell_type": "code",
   "execution_count": 15,
   "id": "2692dbad",
   "metadata": {},
   "outputs": [
    {
     "name": "stdout",
     "output_type": "stream",
     "text": [
      "shape of dataframe after removing duplicates: (7020, 10)\n"
     ]
    }
   ],
   "source": [
    "#all lower\n",
    "df = df.applymap(lambda x: x.lower() if isinstance(x, str) else x)\n",
    "\n",
    "#remove duplicates\n",
    "df.drop_duplicates(inplace=True)\n",
    "print(f\"shape of dataframe after removing duplicates: {df.shape}\")"
   ]
  },
  {
   "cell_type": "markdown",
   "id": "7014961c",
   "metadata": {},
   "source": [
    "# Data after cleaning "
   ]
  },
  {
   "cell_type": "code",
   "execution_count": 16,
   "id": "e3a5534c",
   "metadata": {
    "scrolled": true
   },
   "outputs": [
    {
     "data": {
      "text/html": [
       "<div>\n",
       "<style scoped>\n",
       "    .dataframe tbody tr th:only-of-type {\n",
       "        vertical-align: middle;\n",
       "    }\n",
       "\n",
       "    .dataframe tbody tr th {\n",
       "        vertical-align: top;\n",
       "    }\n",
       "\n",
       "    .dataframe thead th {\n",
       "        text-align: right;\n",
       "    }\n",
       "</style>\n",
       "<table border=\"1\" class=\"dataframe\">\n",
       "  <thead>\n",
       "    <tr style=\"text-align: right;\">\n",
       "      <th></th>\n",
       "      <th>age</th>\n",
       "      <th>sex</th>\n",
       "      <th>physiological_context</th>\n",
       "      <th>visit_motivation</th>\n",
       "      <th>admission_reason</th>\n",
       "      <th>diagnosis_test</th>\n",
       "      <th>diagnosis_result</th>\n",
       "      <th>related_condition</th>\n",
       "      <th>reason_for_treatment</th>\n",
       "      <th>treatment_name</th>\n",
       "    </tr>\n",
       "  </thead>\n",
       "  <tbody>\n",
       "    <tr>\n",
       "      <th>0</th>\n",
       "      <td>4</td>\n",
       "      <td>female</td>\n",
       "      <td>previously healthy</td>\n",
       "      <td>routine surveillance chest radiograph</td>\n",
       "      <td>painless, right-sided abdominal mass</td>\n",
       "      <td>pathology</td>\n",
       "      <td>favorable histology and negative margins</td>\n",
       "      <td>wilms tumor</td>\n",
       "      <td>standard treatment for stage ii wilms tumor</td>\n",
       "      <td>chemotherapy</td>\n",
       "    </tr>\n",
       "    <tr>\n",
       "      <th>1</th>\n",
       "      <td>47</td>\n",
       "      <td>female</td>\n",
       "      <td>past medical history includes a right thyroid lobectomy for a large benign thyroid nodule and cyst about two years ago.</td>\n",
       "      <td>chest pain and dyspnea, weight loss</td>\n",
       "      <td>suspected lung cancer with distant metastasis (clinical stage iv)</td>\n",
       "      <td>lung biopsy</td>\n",
       "      <td>primary lung adenocarcinoma with predominantly micropapillary carcinoma component</td>\n",
       "      <td>primary lung adenocarcinoma</td>\n",
       "      <td>treatment for diagnosed primary lung adenocarcinoma</td>\n",
       "      <td>chemotherapy</td>\n",
       "    </tr>\n",
       "    <tr>\n",
       "      <th>5</th>\n",
       "      <td>48</td>\n",
       "      <td>female</td>\n",
       "      <td>sciatic pain for seven years, endometriosis, symptomatic pulmonary embolism, hypoplasia of the inferior vena cava, bilateral occlusion of vena iliaca communis</td>\n",
       "      <td>exacerbation of nerve root irritation</td>\n",
       "      <td>increased sciatica symptoms and conservative treatment</td>\n",
       "      <td>diagnostic evaluation for thrombophilia</td>\n",
       "      <td>hypoplasia of the inferior vena cava, bilateral occlusion of vena iliaca communis, collateral pathway with ectatic enlargement of the veins of the lesser pelvis</td>\n",
       "      <td>sciatic pain</td>\n",
       "      <td>decrease in symptoms</td>\n",
       "      <td>conservative treatment</td>\n",
       "    </tr>\n",
       "    <tr>\n",
       "      <th>6</th>\n",
       "      <td>25</td>\n",
       "      <td>female</td>\n",
       "      <td>primigravida, chronic hypertension, active ta</td>\n",
       "      <td>active labor and later severe fetal growth restriction and neurological sequelae of aortoarteritis</td>\n",
       "      <td>severe fetal growth restriction and neurological sequelae of aortoarteritis</td>\n",
       "      <td>mra scan</td>\n",
       "      <td>markedly attenuated flow in left cca</td>\n",
       "      <td>active ta</td>\n",
       "      <td>treatment for active ta</td>\n",
       "      <td>corticosteroids</td>\n",
       "    </tr>\n",
       "    <tr>\n",
       "      <th>7</th>\n",
       "      <td>43</td>\n",
       "      <td>male</td>\n",
       "      <td>history of nasal trauma 17 years ago</td>\n",
       "      <td>inability to breathe through left nostril and swelling on nasal tip</td>\n",
       "      <td>complaints of inability to breathe through left nostril and swelling on nasal tip</td>\n",
       "      <td>ct of the paranasal sinuses</td>\n",
       "      <td>large soft tissue mass lesion</td>\n",
       "      <td>mass lesion on left nasal dorsum</td>\n",
       "      <td>to remove the mass lesion</td>\n",
       "      <td>surgery</td>\n",
       "    </tr>\n",
       "  </tbody>\n",
       "</table>\n",
       "</div>"
      ],
      "text/plain": [
       "  age     sex  \\\n",
       "0   4  female   \n",
       "1  47  female   \n",
       "5  48  female   \n",
       "6  25  female   \n",
       "7  43    male   \n",
       "\n",
       "                                                                                                                                            physiological_context  \\\n",
       "0                                                                                                                                              previously healthy   \n",
       "1                                         past medical history includes a right thyroid lobectomy for a large benign thyroid nodule and cyst about two years ago.   \n",
       "5  sciatic pain for seven years, endometriosis, symptomatic pulmonary embolism, hypoplasia of the inferior vena cava, bilateral occlusion of vena iliaca communis   \n",
       "6                                                                                                                   primigravida, chronic hypertension, active ta   \n",
       "7                                                                                                                            history of nasal trauma 17 years ago   \n",
       "\n",
       "                                                                                     visit_motivation  \\\n",
       "0                                                               routine surveillance chest radiograph   \n",
       "1                                                                 chest pain and dyspnea, weight loss   \n",
       "5                                                               exacerbation of nerve root irritation   \n",
       "6  active labor and later severe fetal growth restriction and neurological sequelae of aortoarteritis   \n",
       "7                                 inability to breathe through left nostril and swelling on nasal tip   \n",
       "\n",
       "                                                                    admission_reason  \\\n",
       "0                                               painless, right-sided abdominal mass   \n",
       "1                  suspected lung cancer with distant metastasis (clinical stage iv)   \n",
       "5                             increased sciatica symptoms and conservative treatment   \n",
       "6        severe fetal growth restriction and neurological sequelae of aortoarteritis   \n",
       "7  complaints of inability to breathe through left nostril and swelling on nasal tip   \n",
       "\n",
       "                            diagnosis_test  \\\n",
       "0                                pathology   \n",
       "1                              lung biopsy   \n",
       "5  diagnostic evaluation for thrombophilia   \n",
       "6                                 mra scan   \n",
       "7              ct of the paranasal sinuses   \n",
       "\n",
       "                                                                                                                                                   diagnosis_result  \\\n",
       "0                                                                                                                          favorable histology and negative margins   \n",
       "1                                                                                 primary lung adenocarcinoma with predominantly micropapillary carcinoma component   \n",
       "5  hypoplasia of the inferior vena cava, bilateral occlusion of vena iliaca communis, collateral pathway with ectatic enlargement of the veins of the lesser pelvis   \n",
       "6                                                                                                                              markedly attenuated flow in left cca   \n",
       "7                                                                                                                                     large soft tissue mass lesion   \n",
       "\n",
       "                  related_condition  \\\n",
       "0                       wilms tumor   \n",
       "1       primary lung adenocarcinoma   \n",
       "5                      sciatic pain   \n",
       "6                         active ta   \n",
       "7  mass lesion on left nasal dorsum   \n",
       "\n",
       "                                  reason_for_treatment          treatment_name  \n",
       "0          standard treatment for stage ii wilms tumor            chemotherapy  \n",
       "1  treatment for diagnosed primary lung adenocarcinoma            chemotherapy  \n",
       "5                                 decrease in symptoms  conservative treatment  \n",
       "6                              treatment for active ta         corticosteroids  \n",
       "7                            to remove the mass lesion                 surgery  "
      ]
     },
     "execution_count": 16,
     "metadata": {},
     "output_type": "execute_result"
    }
   ],
   "source": [
    "pd.set_option('display.max_colwidth', None)\n",
    "df.head(5)"
   ]
  },
  {
   "cell_type": "markdown",
   "id": "6fa084c9",
   "metadata": {},
   "source": [
    "# Preprocessing"
   ]
  },
  {
   "cell_type": "code",
   "execution_count": 17,
   "id": "a30d7575",
   "metadata": {},
   "outputs": [],
   "source": [
    "#Label the target variable\n",
    "df_model= df\n",
    "label_encoder = LabelEncoder()\n",
    "df_model['label'] = label_encoder.fit_transform(df_model['treatment_name'])"
   ]
  },
  {
   "cell_type": "code",
   "execution_count": 18,
   "id": "51b2b303",
   "metadata": {},
   "outputs": [],
   "source": [
    "# X = df_model.drop(['diagnosis','label'], axis=1)  # Features\n",
    "df_model[\"X\"]= ( df_model[\"age\"] + \" \" + df_model[\"sex\"] + \" \" + df_model[\"visit_motivation\"] + \" \" + df_model[\"physiological_context\"] + \" \"\n",
    "     + df_model[\"admission_reason\"] + \" \" + df_model[\"diagnosis_test\"] + \" \" + df_model[\"diagnosis_result\"] +\n",
    "     \" \" + df_model[\"related_condition\"] + \" \" + df_model[\"reason_for_treatment\"])"
   ]
  },
  {
   "cell_type": "code",
   "execution_count": 19,
   "id": "2802601e",
   "metadata": {},
   "outputs": [],
   "source": [
    "# data preprocess- remove punct and all.\n",
    "#1. remove the punctuation and stopwords\n",
    "#2. lemmatize to the base words\n",
    "\n",
    "\n",
    "nlp= spacy.load(\"en_core_web_sm\")\n",
    "\n",
    "# Custom stop words list to retain medical terms and important words\n",
    "custom_stopwords = set(spacy.lang.en.stop_words.STOP_WORDS) - {'clinical', 'diagnose', 'medical', 'history', 'suspect', 'treatment'}\n",
    "\n",
    "def preprocess(text):\n",
    "    doc = nlp(str(text))\n",
    "    filtered_token = []\n",
    "\n",
    "    for token in doc:\n",
    "        if token.is_stop and token.text.lower() in custom_stopwords:\n",
    "            continue\n",
    "        if token.is_punct:\n",
    "            continue\n",
    "        filtered_token.append(token.lemma_)\n",
    "\n",
    "    return \" \".join(filtered_token)"
   ]
  },
  {
   "cell_type": "code",
   "execution_count": 20,
   "id": "21e89092",
   "metadata": {},
   "outputs": [
    {
     "name": "stdout",
     "output_type": "stream",
     "text": [
      "47 female chest pain and dyspnea, weight loss past medical history includes a right thyroid lobectomy for a large benign thyroid nodule and cyst about two years ago. suspected lung cancer with distant metastasis (clinical stage iv) lung biopsy primary lung adenocarcinoma with predominantly micropapillary carcinoma component primary lung adenocarcinoma treatment for diagnosed primary lung adenocarcinoma\n"
     ]
    }
   ],
   "source": [
    "# Before Preprocess\n",
    "print(df_model['X'].iloc[1])"
   ]
  },
  {
   "cell_type": "code",
   "execution_count": 21,
   "id": "b4916a85",
   "metadata": {},
   "outputs": [
    {
     "name": "stdout",
     "output_type": "stream",
     "text": [
      "47 female chest pain dyspnea weight loss past medical history include right thyroid lobectomy large benign thyroid nodule cyst year ago suspect lung cancer distant metastasis clinical stage iv lung biopsy primary lung adenocarcinoma predominantly micropapillary carcinoma component primary lung adenocarcinoma treatment diagnose primary lung adenocarcinoma\n"
     ]
    }
   ],
   "source": [
    "df_model[\"tokens\"]= df_model['X'].apply(preprocess)\n",
    "print(df_model['tokens'].iloc[1])"
   ]
  },
  {
   "cell_type": "code",
   "execution_count": 22,
   "id": "d79d6f8a",
   "metadata": {},
   "outputs": [],
   "source": [
    "# TF-IDF\n",
    "\n",
    "vectorizer = TfidfVectorizer()\n",
    "X = vectorizer.fit_transform(df_model['tokens'])\n",
    "y = df_model['label']"
   ]
  },
  {
   "cell_type": "markdown",
   "id": "612c8e5d",
   "metadata": {},
   "source": [
    "# Train-Test split"
   ]
  },
  {
   "cell_type": "code",
   "execution_count": 23,
   "id": "1643cf37",
   "metadata": {},
   "outputs": [
    {
     "name": "stdout",
     "output_type": "stream",
     "text": [
      "Number of samples in training set: 5616\n",
      "Number of samples in test set: 1404\n"
     ]
    }
   ],
   "source": [
    "X_train, X_test, y_train, y_test = train_test_split(X, y, test_size=0.2, random_state=42, stratify=y)\n",
    "\n",
    "# Print the number of samples in each dataset\n",
    "print(\"Number of samples in training set:\", X_train.shape[0])\n",
    "print(\"Number of samples in test set:\", X_test.shape[0])"
   ]
  },
  {
   "cell_type": "markdown",
   "id": "a58aa2d0",
   "metadata": {},
   "source": [
    "# Models- Traditional"
   ]
  },
  {
   "cell_type": "markdown",
   "id": "f55baf77",
   "metadata": {},
   "source": [
    "### All relevant models with CV=5 and with basic tuning "
   ]
  },
  {
   "cell_type": "code",
   "execution_count": 26,
   "id": "7f5b3262",
   "metadata": {},
   "outputs": [
    {
     "name": "stdout",
     "output_type": "stream",
     "text": [
      "Logistic Regression: Cross-validation F1-weighted scores  = 0.7832 +/- 0.0048\n",
      "Logistic Regression - Test Accuracy: 0.8291, F1 Score (Weighted): 0.8309\n",
      "\n",
      "SVM: Cross-validation F1-weighted scores  = 0.8048 +/- 0.0100\n",
      "SVM - Test Accuracy: 0.8504, F1 Score (Weighted): 0.8504\n",
      "\n",
      "Random Forest: Cross-validation F1-weighted scores  = 0.7956 +/- 0.0038\n",
      "Random Forest - Test Accuracy: 0.8319, F1 Score (Weighted): 0.8321\n",
      "\n",
      "K-Nearest Neighbors: Cross-validation F1-weighted scores  = 0.6725 +/- 0.0071\n",
      "K-Nearest Neighbors - Test Accuracy: 0.7400, F1 Score (Weighted): 0.7471\n",
      "\n"
     ]
    }
   ],
   "source": [
    "# Defining classifiers to test\n",
    "classifiers = {\n",
    "    'Logistic Regression': LogisticRegression(max_iter=1000, random_state=42),\n",
    "    'SVM': SVC(random_state=42),\n",
    "    'Random Forest': RandomForestClassifier(n_estimators=100, random_state=42, class_weight='balanced'),\n",
    "    'K-Nearest Neighbors': KNeighborsClassifier()\n",
    "}\n",
    "\n",
    "# Cross-validation setup\n",
    "skf = StratifiedKFold(n_splits=3, shuffle=True, random_state=42)\n",
    "\n",
    "# Loop through classifiers\n",
    "for name, classifier in classifiers.items():\n",
    "    pipeline = make_pipeline(SMOTE(random_state=42), classifier)\n",
    "    cv_scores = cross_val_score(pipeline, X_train, y_train, cv=skf, scoring='f1_weighted')\n",
    "    print(f\"{name}: Cross-validation F1-weighted scores  = {np.mean(cv_scores):.4f} +/- {np.std(cv_scores):.4f}\")\n",
    "    \n",
    "    # Fit and evaluate\n",
    "    pipeline.fit(X_train, y_train)\n",
    "    y_pred = pipeline.predict(X_test)\n",
    "    accuracy = accuracy_score(y_test, y_pred)\n",
    "    f1 = f1_score(y_test, y_pred, average='weighted')\n",
    "    print(f\"{name} - Test Accuracy: {accuracy:.4f}, F1 Score (Weighted): {f1:.4f}\\n\")"
   ]
  },
  {
   "cell_type": "markdown",
   "id": "b7fe3f82",
   "metadata": {},
   "source": [
    "## We will stick to SVM and Random forest for further modelling with CV=5 and hyperparameter tuning ."
   ]
  },
  {
   "cell_type": "markdown",
   "id": "8fdfea9b",
   "metadata": {},
   "source": [
    "## Random Forest Hyperparameter Tuning with Including Class Weights, SMOTE and Cross validation"
   ]
  },
  {
   "cell_type": "code",
   "execution_count": 41,
   "id": "77f7e333",
   "metadata": {},
   "outputs": [
    {
     "name": "stdout",
     "output_type": "stream",
     "text": [
      "Fitting 5 folds for each of 16 candidates, totalling 80 fits\n",
      "Best parameters for Random Forest: {'randomforestclassifier__class_weight': 'balanced', 'randomforestclassifier__max_depth': None, 'randomforestclassifier__max_features': 'sqrt', 'randomforestclassifier__min_samples_leaf': 1, 'randomforestclassifier__min_samples_split': 2, 'randomforestclassifier__n_estimators': 200}\n"
     ]
    }
   ],
   "source": [
    "# Splitting the data into a smaller subset for tuning\n",
    "_, X_tune, _, y_tune = train_test_split(X_train, y_train, test_size=0.1, random_state=42, stratify=y_train)\n",
    "\n",
    "# Define the model pipeline\n",
    "pipeline_rf = make_pipeline(SMOTE(random_state=42), RandomForestClassifier(random_state=42))\n",
    "\n",
    "# Reduced parameters of the model\n",
    "param_grid_rf = {\n",
    "    'randomforestclassifier__n_estimators': [100, 200],  # Reduced to two options\n",
    "    'randomforestclassifier__max_features': ['sqrt'],  # Use only the most common option\n",
    "    'randomforestclassifier__max_depth': [None, 20],  # Reduced depth options\n",
    "    'randomforestclassifier__min_samples_split': [2, 5],  # Fewer split options\n",
    "    'randomforestclassifier__min_samples_leaf': [1, 2],  # Fewer leaf options\n",
    "    'randomforestclassifier__class_weight': ['balanced']  # Stick to one class weighting strategy\n",
    "}\n",
    "\n",
    "# Cross-validation setup\n",
    "skf = StratifiedKFold(n_splits=3, shuffle=True, random_state=42)\n",
    "\n",
    "# Setup GridSearchCV\n",
    "grid_search_rf = GridSearchCV(pipeline_rf, param_grid_rf, cv=skf, scoring='f1_weighted', verbose=1, error_score='raise')\n",
    "grid_search_rf.fit(X_tune, y_tune)\n",
    "\n",
    "# Print the best parameters and the corresponding score\n",
    "print(\"Best parameters for Random Forest:\", grid_search_rf.best_params_)\n"
   ]
  },
  {
   "cell_type": "code",
   "execution_count": 42,
   "id": "442bf5c8",
   "metadata": {},
   "outputs": [
    {
     "name": "stdout",
     "output_type": "stream",
     "text": [
      "Random Forest - Test Accuracy: 0.8369, F1 Score (Weighted): 0.8373\n"
     ]
    }
   ],
   "source": [
    "# Apply the best parameters to the full training data\n",
    "rf_best = grid_search_rf.best_estimator_\n",
    "\n",
    "# Re-train on the entire training set using the best parameters\n",
    "rf_best.fit(X_train, y_train)\n",
    "\n",
    "# Evaluate on the full test set\n",
    "y_pred_rf = rf_best.predict(X_test)\n",
    "accuracy_rf = accuracy_score(y_test, y_pred_rf)\n",
    "f1_rf = f1_score(y_test, y_pred_rf, average='weighted')\n",
    "\n",
    "# Print final test results\n",
    "print(\"Random Forest - Test Accuracy: {:.4f}, F1 Score (Weighted): {:.4f}\".format(accuracy_rf, f1_rf))"
   ]
  },
  {
   "cell_type": "markdown",
   "id": "2ec51e86",
   "metadata": {},
   "source": [
    "## SVM Hyperparameter Tuning with Including Class Weights, SMOTE and Cross validation"
   ]
  },
  {
   "cell_type": "code",
   "execution_count": 24,
   "id": "86444ccb",
   "metadata": {},
   "outputs": [
    {
     "name": "stdout",
     "output_type": "stream",
     "text": [
      "Fitting 3 folds for each of 16 candidates, totalling 48 fits\n"
     ]
    },
    {
     "name": "stderr",
     "output_type": "stream",
     "text": [
      "/opt/homebrew/anaconda3/lib/python3.11/site-packages/sklearn/model_selection/_validation.py:540: FitFailedWarning: \n",
      "32 fits failed out of a total of 48.\n",
      "The score on these train-test partitions for these parameters will be set to nan.\n",
      "If these failures are not expected, you can try to debug them by setting error_score='raise'.\n",
      "\n",
      "Below are more details about the failures:\n",
      "--------------------------------------------------------------------------------\n",
      "32 fits failed with the following error:\n",
      "Traceback (most recent call last):\n",
      "  File \"/opt/homebrew/anaconda3/lib/python3.11/site-packages/sklearn/model_selection/_validation.py\", line 888, in _fit_and_score\n",
      "    estimator.fit(X_train, y_train, **fit_params)\n",
      "  File \"/opt/homebrew/anaconda3/lib/python3.11/site-packages/sklearn/base.py\", line 1473, in wrapper\n",
      "    return fit_method(estimator, *args, **kwargs)\n",
      "           ^^^^^^^^^^^^^^^^^^^^^^^^^^^^^^^^^^^^^^\n",
      "  File \"/opt/homebrew/anaconda3/lib/python3.11/site-packages/imblearn/pipeline.py\", line 329, in fit\n",
      "    Xt, yt = self._fit(X, y, routed_params)\n",
      "             ^^^^^^^^^^^^^^^^^^^^^^^^^^^^^^\n",
      "  File \"/opt/homebrew/anaconda3/lib/python3.11/site-packages/imblearn/pipeline.py\", line 265, in _fit\n",
      "    X, y, fitted_transformer = fit_resample_one_cached(\n",
      "                               ^^^^^^^^^^^^^^^^^^^^^^^^\n",
      "  File \"/opt/homebrew/anaconda3/lib/python3.11/site-packages/joblib/memory.py\", line 349, in __call__\n",
      "    return self.func(*args, **kwargs)\n",
      "           ^^^^^^^^^^^^^^^^^^^^^^^^^^\n",
      "  File \"/opt/homebrew/anaconda3/lib/python3.11/site-packages/imblearn/pipeline.py\", line 1057, in _fit_resample_one\n",
      "    X_res, y_res = sampler.fit_resample(X, y, **params.get(\"fit_resample\", {}))\n",
      "                   ^^^^^^^^^^^^^^^^^^^^^^^^^^^^^^^^^^^^^^^^^^^^^^^^^^^^^^^^^^^^\n",
      "  File \"/opt/homebrew/anaconda3/lib/python3.11/site-packages/imblearn/base.py\", line 208, in fit_resample\n",
      "    return super().fit_resample(X, y)\n",
      "           ^^^^^^^^^^^^^^^^^^^^^^^^^^\n",
      "  File \"/opt/homebrew/anaconda3/lib/python3.11/site-packages/imblearn/base.py\", line 112, in fit_resample\n",
      "    output = self._fit_resample(X, y)\n",
      "             ^^^^^^^^^^^^^^^^^^^^^^^^\n",
      "  File \"/opt/homebrew/anaconda3/lib/python3.11/site-packages/imblearn/over_sampling/_smote/base.py\", line 389, in _fit_resample\n",
      "    nns = self.nn_k_.kneighbors(X_class, return_distance=False)[:, 1:]\n",
      "          ^^^^^^^^^^^^^^^^^^^^^^^^^^^^^^^^^^^^^^^^^^^^^^^^^^^^^\n",
      "  File \"/opt/homebrew/anaconda3/lib/python3.11/site-packages/sklearn/neighbors/_base.py\", line 834, in kneighbors\n",
      "    raise ValueError(\n",
      "ValueError: Expected n_neighbors <= n_samples_fit, but n_neighbors = 6, n_samples_fit = 5, n_samples = 5\n",
      "\n",
      "  warnings.warn(some_fits_failed_message, FitFailedWarning)\n",
      "/opt/homebrew/anaconda3/lib/python3.11/site-packages/sklearn/model_selection/_search.py:1102: UserWarning: One or more of the test scores are non-finite: [nan nan nan nan nan nan nan nan nan nan nan nan nan nan nan nan]\n",
      "  warnings.warn(\n"
     ]
    },
    {
     "name": "stdout",
     "output_type": "stream",
     "text": [
      "Best parameters for SVM: {'svc__C': 0.1, 'svc__class_weight': 'balanced', 'svc__gamma': 'scale', 'svc__kernel': 'linear'}\n"
     ]
    }
   ],
   "source": [
    "# Splitting the data into a smaller subset for tuning\n",
    "_, X_tune, _, y_tune = train_test_split(X_train, y_train, test_size=0.1, random_state=42, stratify=y_train)\n",
    "\n",
    "# Define the model pipeline\n",
    "pipeline_svm = make_pipeline(SMOTE(random_state=42), SVC(probability=True, random_state=42))\n",
    "\n",
    "# Parameters of the model\n",
    "param_grid_svm = {\n",
    "    'svc__C': [0.1, 1, 10,50],  # Regularization parameter\n",
    "    'svc__kernel': ['linear', 'rbf'],  # Type of hyperplane used to separate the data\n",
    "    'svc__gamma': ['scale', 'auto'],  # Kernel coefficient\n",
    "    'svc__class_weight': ['balanced']  # Balancing class weights\n",
    "}\n",
    "\n",
    "# Cross-validation setup\n",
    "skf = StratifiedKFold(n_splits=3, shuffle=True, random_state=42)\n",
    "\n",
    "# Setup GridSearchCV\n",
    "grid_search_svm = GridSearchCV(pipeline_svm, param_grid_svm, cv=skf, scoring='f1_weighted', verbose=1)\n",
    "grid_search_svm.fit(X_tune, y_tune)\n",
    "\n",
    "# Best parameters and scores\n",
    "print(\"Best parameters for SVM:\", grid_search_svm.best_params_)"
   ]
  },
  {
   "cell_type": "code",
   "execution_count": 25,
   "id": "065d44b6",
   "metadata": {},
   "outputs": [
    {
     "name": "stdout",
     "output_type": "stream",
     "text": [
      "SVM - Test Accuracy: 0.7678\n",
      "SVM - Precision (Weighted): 0.7782\n",
      "SVM - Recall (Weighted): 0.7678\n",
      "SVM - F1 Score (Weighted): 0.7691\n",
      "SVM - AUC Score (Weighted): 0.9790\n",
      "\n"
     ]
    }
   ],
   "source": [
    "from sklearn.linear_model import LogisticRegression\n",
    "from sklearn.svm import SVC\n",
    "from sklearn.ensemble import RandomForestClassifier\n",
    "from sklearn.neighbors import KNeighborsClassifier\n",
    "from sklearn.metrics import accuracy_score, f1_score, precision_score, recall_score, roc_auc_score\n",
    "from sklearn.model_selection import train_test_split, cross_val_score, StratifiedKFold, GridSearchCV\n",
    "from imblearn.pipeline import make_pipeline\n",
    "from imblearn.over_sampling import SMOTE\n",
    "import numpy as np\n",
    "\n",
    "# Apply the best parameters to the full training data\n",
    "svm_best = grid_search_svm.best_estimator_\n",
    "\n",
    "# Re-train on the entire training set using the best parameters\n",
    "svm_best.fit(X_train, y_train)\n",
    "\n",
    "# Evaluate on the full test set\n",
    "y_pred_svm = svm_best.predict(X_test)\n",
    "accuracy_svm = accuracy_score(y_test, y_pred_svm)\n",
    "f1_svm = f1_score(y_test, y_pred_svm, average='weighted')\n",
    "precision_svm = precision_score(y_test, y_pred_svm, average='weighted')\n",
    "recall_svm = recall_score(y_test, y_pred_svm, average='weighted')\n",
    "\n",
    "# Compute AUC score (one-vs-rest)\n",
    "y_prob_svm = svm_best.predict_proba(X_test)\n",
    "auc_svm = roc_auc_score(y_test, y_prob_svm, multi_class='ovr', average='weighted')\n",
    "\n",
    "# Print SVM metrics\n",
    "print(f\"SVM - Test Accuracy: {accuracy_svm:.4f}\")\n",
    "print(f\"SVM - Precision (Weighted): {precision_svm:.4f}\")\n",
    "print(f\"SVM - Recall (Weighted): {recall_svm:.4f}\")\n",
    "print(f\"SVM - F1 Score (Weighted): {f1_svm:.4f}\")\n",
    "print(f\"SVM - AUC Score (Weighted): {auc_svm:.4f}\\n\")\n"
   ]
  },
  {
   "cell_type": "code",
   "execution_count": 50,
   "id": "64286cd4",
   "metadata": {},
   "outputs": [
    {
     "name": "stdout",
     "output_type": "stream",
     "text": [
      "Test Accuracy for SVM: 0.8668\n",
      "Precision (Weighted) for SVM: 0.8688\n",
      "Recall (Weighted) for SVM: 0.8668\n",
      "F1 Score (Weighted) for SVM: 0.8670\n"
     ]
    }
   ],
   "source": [
    "\n",
    "precision_svm = precision_score(y_test, y_pred_svm, average='weighted')\n",
    "recall_svm = recall_score(y_test, y_pred_svm, average='weighted')\n",
    "\n",
    "# Printing all metrics\n",
    "print(f'Test Accuracy for SVM: {accuracy_svm:.4f}')\n",
    "print(f'Precision (Weighted) for SVM: {precision_svm:.4f}')\n",
    "print(f'Recall (Weighted) for SVM: {recall_svm:.4f}')\n",
    "print(f'F1 Score (Weighted) for SVM: {f1_svm:.4f}')"
   ]
  },
  {
   "cell_type": "markdown",
   "id": "187018e1",
   "metadata": {},
   "source": [
    "# Confusion Matrix- Heat Map"
   ]
  },
  {
   "cell_type": "code",
   "execution_count": 26,
   "id": "754d11ac",
   "metadata": {},
   "outputs": [
    {
     "data": {
      "image/png": "[encoded data removed]",
      "text/plain": [
       "<Figure size 1000x700 with 2 Axes>"
      ]
     },
     "metadata": {},
     "output_type": "display_data"
    }
   ],
   "source": [
    "cm = confusion_matrix(y_test, y_pred_svm)\n",
    "\n",
    "class_names = label_encoder.inverse_transform(np.unique(y_test))\n",
    "\n",
    "plt.figure(figsize=(10, 7))  # Adjust size as needed\n",
    "sns.heatmap(cm, annot=True, fmt=\"d\", cmap='Blues', xticklabels=class_names, yticklabels=class_names)\n",
    "plt.title('Confusion Matrix')\n",
    "plt.ylabel('True Label')\n",
    "plt.xlabel('Predicted Label')\n",
    "plt.show()"
   ]
  }
 ],
 "metadata": {
  "kernelspec": {
   "display_name": "Python 3 (ipykernel)",
   "language": "python",
   "name": "python3"
  },
  "language_info": {
   "codemirror_mode": {
    "name": "ipython",
    "version": 3
   },
   "file_extension": ".py",
   "mimetype": "text/x-python",
   "name": "python",
   "nbconvert_exporter": "python",
   "pygments_lexer": "ipython3",
   "version": "3.11.5"
  }
 },
 "nbformat": 4,
 "nbformat_minor": 5
}
